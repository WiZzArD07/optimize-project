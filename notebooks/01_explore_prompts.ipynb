{
 "cells": [
  {
   "cell_type": "code",
   "execution_count": null,
   "id": "3b378e0f",
   "metadata": {},
   "outputs": [
    {
     "ename": "",
     "evalue": "",
     "output_type": "error",
     "traceback": [
      "\u001b[1;31mRunning cells with 'Python 3.13.1' requires the ipykernel package.\n",
      "\u001b[1;31m<a href='command:jupyter.createPythonEnvAndSelectController'>Create a Python Environment</a> with the required packages."
     ]
    }
   ],
   "source": [
    "# 01_explore_prompts.ipynb\n",
    "\n",
    "# Import necessary libraries\n",
    "import json\n",
    "import matplotlib.pyplot as plt\n",
    "\n",
    "# Load data using utils\n",
    "from src.utils.data_loader import load_all_prompts\n",
    "\n",
    "# Load all prompts from datasets\n",
    "prompts = load_all_prompts([\n",
    "    (\"data/red_team_prompts.json\", \"red\"),\n",
    "    (\"data/synthetic_prompts.json\", \"synthetic\"),\n",
    "    (\"data/safe_prompts.json\", \"safe\")\n",
    "])\n",
    "\n",
    "# Display the first few examples\n",
    "print(\"Example prompt data:\")\n",
    "for prompt in prompts[:5]:\n",
    "    print(prompt)\n",
    "\n",
    "# Visualize the distribution of prompt types\n",
    "labels = [prompt['type'] for prompt in prompts]\n",
    "plt.figure(figsize=(6, 4))\n",
    "plt.hist(labels, bins=len(set(labels)), edgecolor='black')\n",
    "plt.title(\"Prompt Type Distribution\")\n",
    "plt.xlabel(\"Prompt Type\")\n",
    "plt.ylabel(\"Frequency\")\n",
    "plt.show()\n"
   ]
  },
  {
   "cell_type": "code",
   "execution_count": null,
   "id": "17928d9e",
   "metadata": {},
   "outputs": [],
   "source": []
  }
 ],
 "metadata": {
  "kernelspec": {
   "display_name": "Python 3",
   "language": "python",
   "name": "python3"
  },
  "language_info": {
   "name": "python",
   "version": "3.13.1"
  }
 },
 "nbformat": 4,
 "nbformat_minor": 5
}
