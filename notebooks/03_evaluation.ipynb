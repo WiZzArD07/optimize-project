{
 "cells": [
  {
   "cell_type": "code",
   "execution_count": null,
   "id": "50d2591d",
   "metadata": {},
   "outputs": [],
   "source": [
    "# 03_evaluation.ipynb\n",
    "\n",
    "# Import necessary libraries\n",
    "from src.eval.run_eval import main\n",
    "\n",
    "# Run the evaluation\n",
    "print(\"Evaluating the fine-tuned model...\")\n",
    "main()\n"
   ]
  }
 ],
 "metadata": {
  "language_info": {
   "name": "python"
  }
 },
 "nbformat": 4,
 "nbformat_minor": 5
}
