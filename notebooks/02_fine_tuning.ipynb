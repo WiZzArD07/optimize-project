{
 "cells": [
  {
   "cell_type": "code",
   "execution_count": null,
   "id": "5871ee9f",
   "metadata": {},
   "outputs": [],
   "source": [
    "# 02_fine_tuning.ipynb\n",
    "\n",
    "# Import necessary libraries\n",
    "from src.defense.adversarial_training import run_adversarial_training\n",
    "from src.utils.data_loader import load_json_prompts\n",
    "\n",
    "# Load adversarial and safe prompts for training\n",
    "red_team_prompts = load_json_prompts(\"data/red_team_prompts.json\", label_type=\"red\")\n",
    "safe_prompts = load_json_prompts(\"data/safe_prompts.json\", label_type=\"safe\")\n",
    "\n",
    "# Combine them for training (red-team prompts are adversarial)\n",
    "all_prompts = red_team_prompts + safe_prompts\n",
    "\n",
    "# Fine-tune the model\n",
    "print(\"Starting adversarial training...\")\n",
    "run_adversarial_training(model_name=\"gpt2\", prompts=all_prompts, output_dir=\"./models/adversarial\")\n",
    "\n",
    "print(\"Adversarial training complete!\")\n"
   ]
  }
 ],
 "metadata": {
  "language_info": {
   "name": "python"
  }
 },
 "nbformat": 4,
 "nbformat_minor": 5
}
